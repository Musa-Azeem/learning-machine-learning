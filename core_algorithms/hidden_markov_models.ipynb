{
 "cells": [
  {
   "attachments": {},
   "cell_type": "markdown",
   "metadata": {},
   "source": [
    "# Core Learning Algorithms"
   ]
  },
  {
   "attachments": {},
   "cell_type": "markdown",
   "metadata": {},
   "source": [
    "## Four Basic Machine Learning Algorithms\n",
    "\n",
    "- Linear Regression\n",
    "- Classification\n",
    "- Clustering\n",
    "- Hidden Markov Models"
   ]
  },
  {
   "attachments": {},
   "cell_type": "markdown",
   "metadata": {},
   "source": [
    "## Hidden Markov Models\n",
    "- finite set of states, each associates with a (generally multidemensional) probability distributions\n",
    "- transitions among the states are governed by a set of probabilities caleld transition probabilities\n",
    "- uses probabilities to predict future events or states\n",
    "\n",
    "- Data is probability distributions that have to do with states (constants)\n",
    "- **States**: finite set of states in model - like \"warm\", \"cold\", etc.\n",
    "- **Observations**: Each state has a particular outcome or observation associated with it based on a probability distribution\n",
    "    - EX: On a hot day, Tim has a 80% chance of being happy and a 20% chance of being sad\n",
    "- **Transitions**: Each state will have a probability definining the likelyhood of transitioning to a different state\n",
    "    - EX: A cold day has a 30% chance of being followed by a hot day and a 70% chance of being followed by a cold day\n",
    "\n",
    "To create a hidden markov model we need:\n",
    "- States\n",
    "- Observation Distribution\n",
    "- Transisition Distribution "
   ]
  },
  {
   "attachments": {},
   "cell_type": "markdown",
   "metadata": {},
   "source": [
    "### Weather Prediction\n",
    "Data provides this information:\n",
    "1. Cold days are encoded by a 0 and hot days are encoded by a 1.\n",
    "2. The first day in our sequence has an 80% chance of being cold.\n",
    "3. A cold day has a 30% chance of being followed by a hot day.\n",
    "4. A hot day has a 20% chance of being followed by a cold day.\n",
    "5. On each day the temperature is normally distributed with mean and standard deviation 0 and 5 on a cold day and mean and standard deviation 15 and 10 on a hot day."
   ]
  },
  {
   "cell_type": "code",
   "execution_count": 7,
   "metadata": {},
   "outputs": [],
   "source": [
    "import tensorflow_probability as tfp\n",
    "import tensorflow as tf\n",
    "tfd = tfp.distributions"
   ]
  },
  {
   "cell_type": "code",
   "execution_count": 12,
   "metadata": {},
   "outputs": [],
   "source": [
    "# Load data\n",
    "\n",
    "# two states -> two probabilities [prob of cold, prob of hot]\n",
    "initial_distr = tfd.Categorical(probs=[0.8, 0.2])                   # From point 2\n",
    "transition_distr = tfd.Categorical(probs=[[0.7, 0.3], [0.2, 0.8]])  # From points 3 and 4\n",
    "observation_distr = tfd.Normal(loc=[0., 15.], scale=[5., 10.])      # Point 5 - loc is mean and scale is standard distr\n",
    "\n",
    "# Create Model\n",
    "model = tfd.HiddenMarkovModel(\n",
    "    initial_distribution=initial_distr,\n",
    "    transition_distribution=transition_distr,\n",
    "    observation_distribution=observation_distr,\n",
    "    num_steps=7 # How many times to step through probability cycle - 7 days\n",
    ")"
   ]
  },
  {
   "cell_type": "code",
   "execution_count": 13,
   "metadata": {},
   "outputs": [
    {
     "name": "stdout",
     "output_type": "stream",
     "text": [
      "[3.        5.9999995 7.4999995 8.25      8.625001  8.812501  8.90625  ]\n"
     ]
    }
   ],
   "source": [
    "# Run model and see output\n",
    "\n",
    "mean = model.mean()\n",
    "\n",
    "# Evaluate graph to see value of mean tensor\n",
    "with tf.compat.v1.Session() as sess:\n",
    "    print(mean.numpy())"
   ]
  },
  {
   "cell_type": "code",
   "execution_count": null,
   "metadata": {},
   "outputs": [],
   "source": []
  }
 ],
 "metadata": {
  "kernelspec": {
   "display_name": "Python 3",
   "language": "python",
   "name": "python3"
  },
  "language_info": {
   "codemirror_mode": {
    "name": "ipython",
    "version": 3
   },
   "file_extension": ".py",
   "mimetype": "text/x-python",
   "name": "python",
   "nbconvert_exporter": "python",
   "pygments_lexer": "ipython3",
   "version": "3.10.6"
  },
  "orig_nbformat": 4,
  "vscode": {
   "interpreter": {
    "hash": "916dbcbb3f70747c44a77c7bcd40155683ae19c65e1c03b4aa3499c5328201f1"
   }
  }
 },
 "nbformat": 4,
 "nbformat_minor": 2
}
