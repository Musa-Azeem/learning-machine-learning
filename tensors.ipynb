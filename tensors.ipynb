{
 "cells": [
  {
   "attachments": {},
   "cell_type": "markdown",
   "metadata": {},
   "source": [
    "# TensorFlow"
   ]
  },
  {
   "attachments": {},
   "cell_type": "markdown",
   "metadata": {},
   "source": [
    "## Tensors\n",
    "- represent vectors and matrices generalized to higher dimensions\n",
    "- represented as n-dimensional array of base datatypes\n",
    "- main objects that are passed around and manipulated\n",
    "- each tensor represents a partially defined computation that will eventually produce a value\n",
    "- TensorFlow programs build graphs of Tensor objects that details how tensors are related\n",
    "- running parts of graph generate results\n",
    "\n",
    "Datatypes: float32, int32, string, ...\n",
    "Shape: Dimensions"
   ]
  },
  {
   "cell_type": "code",
   "execution_count": null,
   "metadata": {},
   "outputs": [],
   "source": [
    "# Creating Tensors - not used very much\n",
    "\n",
    "import tensorflow as tf\n",
    "\n",
    "# Tensor with shape of 1, or rank 0 (scalar)\n",
    "string = tf.Variable(\"string tensor\", tf.string)\n",
    "number = tf.Variable(324, tf.int16)\n",
    "floating = tf.Variable(3.14159, tf.float64)\n",
    "\n",
    "# Tensor with higher ranks\n",
    "rank1_tensor = tf.Variable([1, 2], tf.int32) # Shape 1 x 2\n",
    "rank2_tensor = tf.Variable([[1, 2, 3], [1, 2, 3]], tf.int32) # matrix shape 2x3\n",
    "\n",
    "# Get rank of tensor\n",
    "print(tf.rank(rank1_tensor))    # Outputs: tf.Tensor(1, ... )\n",
    "\n",
    "# Get shape of tensor\n",
    "print(rank2_tensor.shape)       # Outputs: (2, 3)"
   ]
  },
  {
   "attachments": {},
   "cell_type": "markdown",
   "metadata": {},
   "source": [
    "### Changing Shape of Tenors\n",
    "\n",
    "- number of elements in a tensor is the product of the sizes of its shape (2x2 = 4 elements)\n",
    "- can change shape of tensor to represent same number of elements in a different way"
   ]
  },
  {
   "cell_type": "code",
   "execution_count": null,
   "metadata": {},
   "outputs": [],
   "source": [
    "tensor1 = tf.ones([1,2,3])  # create tensor of all ones of given shape\n",
    "\n",
    "# Reshape\n",
    "tensor2 = tf.reshape(tensor1, [2, 3, 1])    # new shape, still 6 elements\n",
    "tensor3 = tf.reshape(tensor1, [3, -1])  # -1 tells tensorflow to calculate shape - will choose 3x2\n",
    "\n",
    "print(tensor1)\n",
    "print(tensor2)\n",
    "print(tensor3)"
   ]
  },
  {
   "cell_type": "code",
   "execution_count": null,
   "metadata": {},
   "outputs": [],
   "source": [
    "t = tf.zeros([5, 5, 5, 5])\n",
    "t = tf.reshape(t, [625])    # Flatten\n",
    "print(t)"
   ]
  },
  {
   "attachments": {},
   "cell_type": "markdown",
   "metadata": {},
   "source": [
    "### Types of Tensors\n",
    "- Variable: can change\n",
    "- Constant: cannot change"
   ]
  },
  {
   "cell_type": "code",
   "execution_count": null,
   "metadata": {},
   "outputs": [],
   "source": [
    "constant_tensor = tf.constant([[1,2,3],[1,2,3]], tf.int32)\n",
    "print(constant_tensor)"
   ]
  },
  {
   "attachments": {},
   "cell_type": "markdown",
   "metadata": {},
   "source": [
    "### Evaluating Tensors\n",
    "\n",
    "- create a session to get value of tensor\n",
    "- this is old (there is new way to do it)"
   ]
  },
  {
   "cell_type": "code",
   "execution_count": null,
   "metadata": {},
   "outputs": [],
   "source": [
    "# This doesnt work with tensor flow 2\n",
    "with tf.Session() as sess:\n",
    "    print(tensor1.eval())      # get value of tensor"
   ]
  }
 ],
 "metadata": {
  "kernelspec": {
   "display_name": "Python 3.10.6 64-bit",
   "language": "python",
   "name": "python3"
  },
  "language_info": {
   "codemirror_mode": {
    "name": "ipython",
    "version": 3
   },
   "file_extension": ".py",
   "mimetype": "text/x-python",
   "name": "python",
   "nbconvert_exporter": "python",
   "pygments_lexer": "ipython3",
   "version": "3.10.6"
  },
  "orig_nbformat": 4,
  "vscode": {
   "interpreter": {
    "hash": "916dbcbb3f70747c44a77c7bcd40155683ae19c65e1c03b4aa3499c5328201f1"
   }
  }
 },
 "nbformat": 4,
 "nbformat_minor": 2
}
