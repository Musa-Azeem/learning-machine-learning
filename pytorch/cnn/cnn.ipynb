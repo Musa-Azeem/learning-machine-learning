{
 "cells": [
  {
   "cell_type": "markdown",
   "metadata": {},
   "source": [
    "# Convolutional Neural Network in Pytorch\n",
    "- following this guide: `https://pyimagesearch.com/2021/07/19/pytorch-training-your-first-convolutional-neural-network-cnn/`"
   ]
  },
  {
   "cell_type": "code",
   "execution_count": 2,
   "metadata": {},
   "outputs": [
    {
     "name": "stderr",
     "output_type": "stream",
     "text": [
      "/home/mmazeem/.local/lib/python3.10/site-packages/tqdm/auto.py:21: TqdmWarning: IProgress not found. Please update jupyter and ipywidgets. See https://ipywidgets.readthedocs.io/en/stable/user_install.html\n",
      "  from .autonotebook import tqdm as notebook_tqdm\n"
     ]
    }
   ],
   "source": [
    "from torch.nn import (\n",
    "    Module, \n",
    "    Conv2d, \n",
    "    Linear, \n",
    "    MaxPool2d, \n",
    "    ReLU, \n",
    "    LogSoftmax\n",
    ")\n",
    "from torch import flatten"
   ]
  },
  {
   "cell_type": "code",
   "execution_count": 19,
   "metadata": {},
   "outputs": [],
   "source": [
    "class LeNet(Module):\n",
    "    def __init__(self, num_channels, classes):\n",
    "        super().__init__()\n",
    "\n",
    "        # First set of CONV => RELU => POOL layers\n",
    "        self.conv1 = Conv2d(\n",
    "            in_channels=num_channels,   # Channels in input image\n",
    "            out_channels=20,            # Number of filters\n",
    "            kernel_size=(5,5)           # Size of each filter\n",
    "        )\n",
    "        self.relu1 = ReLU()\n",
    "        self.maxpool1 = MaxPool2d(kernel_size=(2,2), stride=(2,2))\n",
    "\n",
    "        # Second set of CONV => RELU => POOL lyaers\n",
    "        self.conv2 = Conv2d(\n",
    "            in_channels=20,             # Output channels from first conv\n",
    "            out_channels=50,            # Number of filters\n",
    "            kernel_size=(5,5)           # Size of each filter\n",
    "        )\n",
    "        self.relu2 = ReLU()\n",
    "        self.maxpool2 = MaxPool2d(kernel_size=(2,2), stride=(2,2))\n",
    "\n",
    "        # FC => RELU layers\n",
    "        self.fc1 = Linear(\n",
    "            in_features=800,            # num of input = flattened conv output\n",
    "            out_features=500            # num of hidden neurons\n",
    "        )\n",
    "        self.relu3 = ReLU()\n",
    "\n",
    "        # Softmax classifier\n",
    "        self.fc2 = Linear(\n",
    "            in_features=500,            # num of hidden neurons\n",
    "            out_features=classes        # num of output neurons\n",
    "        )\n",
    "        self.log_softmax = LogSoftmax(dim=1)\n",
    "\n",
    "\n",
    "    def forward(self, x):\n",
    "        # First set of conv layers\n",
    "        x = self.conv1(x)\n",
    "        x = self.relu1(x)\n",
    "        x = self.maxpool1(x)\n",
    "\n",
    "        # Second set of conv layers\n",
    "        x = self.conv2(x)\n",
    "        x = self.relu2(x)\n",
    "        x = self.maxpool2(x)\n",
    "\n",
    "        # Flatten output and pass it to dense layers\n",
    "        x = flatten(x, 1)\n",
    "        x = self.fc1(x)\n",
    "        x = self.relu3(x)\n",
    "\n",
    "        # Softmax classifier\n",
    "        x = self.fc2(x)\n",
    "        output = self.log_softmax(x)\n",
    "\n",
    "        return output"
   ]
  },
  {
   "cell_type": "markdown",
   "metadata": {},
   "source": [
    "## Train"
   ]
  },
  {
   "cell_type": "code",
   "execution_count": 20,
   "metadata": {},
   "outputs": [],
   "source": [
    "import matplotlib\n",
    "matplotlib.use(\"Agg\")\n",
    "\n",
    "from sklearn.metrics import classification_report\n",
    "from torch.utils.data import (random_split, DataLoader)\n",
    "from torchvision.transforms import ToTensor\n",
    "from torchvision.datasets import KMNIST\n",
    "from torch.optim import Adam\n",
    "from torch import nn\n",
    "import matplotlib.pyplot as plt\n",
    "import numpy as np\n",
    "import torch\n",
    "import time"
   ]
  },
  {
   "cell_type": "code",
   "execution_count": 21,
   "metadata": {},
   "outputs": [],
   "source": [
    "# Training hyperparameters\n",
    "init_lr = 1e-3\n",
    "batch_size = 64\n",
    "epochs = 10\n",
    "\n",
    "# train and val split\n",
    "train_split = 0.75\n",
    "val_split = 1 - train_split\n",
    "\n",
    "# Get device\n",
    "device = torch.device(\"cuda\" if torch.cuda.is_available() else \"cpu\")"
   ]
  },
  {
   "cell_type": "markdown",
   "metadata": {},
   "source": [
    "### Prepare Dataset"
   ]
  },
  {
   "cell_type": "code",
   "execution_count": 22,
   "metadata": {},
   "outputs": [],
   "source": [
    "train_data = KMNIST(root=\"data\", train=True, download=True, transform=ToTensor())\n",
    "test_data = KMNIST(root=\"data\", train=False, download=True, transform=ToTensor())\n",
    "\n",
    "num_train_samples = int(len(train_data) * train_split)\n",
    "num_val_samples = int(len(train_data) * val_split)\n",
    "(train_data, val_data) = random_split(\n",
    "    train_data,\n",
    "\t[num_train_samples, num_val_samples],\n",
    "\tgenerator=torch.Generator().manual_seed(42)\n",
    ")\n",
    "\n",
    "train_dataloader = DataLoader(train_data, shuffle=True, batch_size=batch_size)\n",
    "val_dataloader = DataLoader(val_data, batch_size=batch_size)\n",
    "test_dataloader = DataLoader(test_data, batch_size=batch_size)\n",
    "\n",
    "train_steps = len(train_dataloader.dataset) // batch_size\n",
    "val_steps = len(val_dataloader.dataset) // batch_size"
   ]
  },
  {
   "cell_type": "markdown",
   "metadata": {},
   "source": [
    "### Train"
   ]
  },
  {
   "cell_type": "code",
   "execution_count": 23,
   "metadata": {},
   "outputs": [],
   "source": [
    "model = LeNet(\n",
    "    num_channels=1,\n",
    "    classes=len(train_data.dataset.classes)\n",
    ").to(device)\n",
    "\n",
    "opt = Adam(model.parameters(), lr=init_lr)\n",
    "loss_fn = nn.NLLLoss()\n",
    "\n",
    "# Training History\n",
    "H = {\n",
    "    \"train_loss\": [],\n",
    "    \"train_acc\": [],\n",
    "    \"val_loss\": [],\n",
    "    \"val_acc\": []\n",
    "}"
   ]
  },
  {
   "cell_type": "code",
   "execution_count": 25,
   "metadata": {},
   "outputs": [
    {
     "name": "stdout",
     "output_type": "stream",
     "text": [
      "[INFO] EPOCH: 1/10\n",
      "Train loss: 0.357338, Train accuracy: 0.8893\n",
      "Val loss: 0.147950, Val accuracy: 0.9547\n",
      "\n",
      "[INFO] EPOCH: 2/10\n",
      "Train loss: 0.096443, Train accuracy: 0.9705\n",
      "Val loss: 0.092934, Val accuracy: 0.9719\n",
      "\n",
      "[INFO] EPOCH: 3/10\n",
      "Train loss: 0.054073, Train accuracy: 0.9832\n",
      "Val loss: 0.072065, Val accuracy: 0.9790\n",
      "\n",
      "[INFO] EPOCH: 4/10\n",
      "Train loss: 0.036141, Train accuracy: 0.9883\n",
      "Val loss: 0.072300, Val accuracy: 0.9788\n",
      "\n",
      "[INFO] EPOCH: 5/10\n",
      "Train loss: 0.023060, Train accuracy: 0.9924\n",
      "Val loss: 0.073182, Val accuracy: 0.9799\n",
      "\n",
      "[INFO] EPOCH: 6/10\n",
      "Train loss: 0.016864, Train accuracy: 0.9944\n",
      "Val loss: 0.090251, Val accuracy: 0.9765\n",
      "\n",
      "[INFO] EPOCH: 7/10\n",
      "Train loss: 0.013267, Train accuracy: 0.9956\n",
      "Val loss: 0.088390, Val accuracy: 0.9777\n",
      "\n",
      "[INFO] EPOCH: 8/10\n",
      "Train loss: 0.012621, Train accuracy: 0.9956\n",
      "Val loss: 0.071480, Val accuracy: 0.9833\n",
      "\n",
      "[INFO] EPOCH: 9/10\n",
      "Train loss: 0.009386, Train accuracy: 0.9967\n",
      "Val loss: 0.093541, Val accuracy: 0.9783\n",
      "\n",
      "[INFO] EPOCH: 10/10\n",
      "Train loss: 0.009104, Train accuracy: 0.9967\n",
      "Val loss: 0.080866, Val accuracy: 0.9832\n",
      "\n"
     ]
    }
   ],
   "source": [
    "for e in range(epochs):\n",
    "    model.train()\n",
    "\n",
    "    total_train_loss = 0\n",
    "    total_val_loss = 0\n",
    "\n",
    "    train_correct = 0\n",
    "    val_correct = 0\n",
    "\n",
    "    for (x,y) in train_dataloader:\n",
    "        (x,y) = (x.to(device), y.to(device))\n",
    "\n",
    "        pred = model(x)\n",
    "        loss = loss_fn(pred, y)\n",
    "\n",
    "        opt.zero_grad()\n",
    "        loss.backward()\n",
    "        opt.step()\n",
    "\n",
    "        total_train_loss += loss\n",
    "        train_correct += (pred.argmax(1) == y).type(torch.float).sum().item()\n",
    "\n",
    "    with torch.no_grad():\n",
    "        model.eval()\n",
    "\n",
    "        for (x,y) in val_dataloader:\n",
    "            (x,y) = (x.to(device), y.to(device))\n",
    "            pred = model(x)\n",
    "            total_val_loss += loss_fn(pred, y)\n",
    "\n",
    "            val_correct += (pred.argmax(1)==y).type(torch.float).sum().item()\n",
    "\n",
    "    # calculate the average training and validation loss\n",
    "    avg_train_loss = total_train_loss / train_steps\n",
    "    avg_val_loss = total_val_loss / val_steps\n",
    "    # calculate the training and validation accuracy\n",
    "    train_correct = train_correct / len(train_dataloader.dataset)\n",
    "    val_correct = val_correct / len(val_dataloader.dataset)\n",
    "    # update our training history\n",
    "    H[\"train_loss\"].append(avg_train_loss.cpu().detach().numpy())\n",
    "    H[\"train_acc\"].append(train_correct)\n",
    "    H[\"val_loss\"].append(avg_val_loss.cpu().detach().numpy())\n",
    "    H[\"val_acc\"].append(val_correct)\n",
    "    # print the model training and validation information\n",
    "    print(\"[INFO] EPOCH: {}/{}\".format(e + 1, epochs))\n",
    "    print(\"Train loss: {:.6f}, Train accuracy: {:.4f}\".format(avg_train_loss, train_correct))\n",
    "    print(\"Val loss: {:.6f}, Val accuracy: {:.4f}\\n\".format(avg_val_loss, val_correct))"
   ]
  },
  {
   "cell_type": "code",
   "execution_count": 26,
   "metadata": {},
   "outputs": [],
   "source": [
    "with torch.no_grad():\n",
    "    model.eval()\n",
    "    preds = []\n",
    "    for (x,y) in test_dataloader:\n",
    "        x = x.to(device)\n",
    "        pred = model(x)\n",
    "        preds.extend(pred.argmax(axis=1).cpu().numpy())"
   ]
  },
  {
   "cell_type": "code",
   "execution_count": 27,
   "metadata": {},
   "outputs": [],
   "source": [
    "# plot the training loss and accuracy\n",
    "plt.style.use(\"ggplot\")\n",
    "plt.figure()\n",
    "plt.plot(H[\"train_loss\"], label=\"train_loss\")\n",
    "plt.plot(H[\"val_loss\"], label=\"val_loss\")\n",
    "plt.plot(H[\"train_acc\"], label=\"train_acc\")\n",
    "plt.plot(H[\"val_acc\"], label=\"val_acc\")\n",
    "plt.title(\"Training Loss and Accuracy on Dataset\")\n",
    "plt.xlabel(\"Epoch #\")\n",
    "plt.ylabel(\"Loss/Accuracy\")\n",
    "plt.legend(loc=\"lower left\")\n",
    "plt.savefig('plot.png')\n",
    "# serialize the model to disk\n",
    "torch.save(model, 'model/model.pt')"
   ]
  },
  {
   "cell_type": "code",
   "execution_count": null,
   "metadata": {},
   "outputs": [],
   "source": []
  }
 ],
 "metadata": {
  "kernelspec": {
   "display_name": "Python 3.10.6 64-bit",
   "language": "python",
   "name": "python3"
  },
  "language_info": {
   "codemirror_mode": {
    "name": "ipython",
    "version": 3
   },
   "file_extension": ".py",
   "mimetype": "text/x-python",
   "name": "python",
   "nbconvert_exporter": "python",
   "pygments_lexer": "ipython3",
   "version": "3.10.6"
  },
  "orig_nbformat": 4,
  "vscode": {
   "interpreter": {
    "hash": "916dbcbb3f70747c44a77c7bcd40155683ae19c65e1c03b4aa3499c5328201f1"
   }
  }
 },
 "nbformat": 4,
 "nbformat_minor": 2
}
