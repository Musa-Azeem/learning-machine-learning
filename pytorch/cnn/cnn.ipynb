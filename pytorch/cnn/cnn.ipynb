{
 "cells": [
  {
   "cell_type": "markdown",
   "metadata": {},
   "source": [
    "# Convolutional Neural Network in Pytorch\n",
    "- following this guide: `https://pyimagesearch.com/2021/07/19/pytorch-training-your-first-convolutional-neural-network-cnn/`"
   ]
  },
  {
   "cell_type": "code",
   "execution_count": 2,
   "metadata": {},
   "outputs": [
    {
     "name": "stderr",
     "output_type": "stream",
     "text": [
      "/home/mmazeem/.local/lib/python3.10/site-packages/tqdm/auto.py:21: TqdmWarning: IProgress not found. Please update jupyter and ipywidgets. See https://ipywidgets.readthedocs.io/en/stable/user_install.html\n",
      "  from .autonotebook import tqdm as notebook_tqdm\n"
     ]
    }
   ],
   "source": [
    "from torch.nn import (\n",
    "    Module, \n",
    "    Conv2d, \n",
    "    Linear, \n",
    "    MaxPool2d, \n",
    "    ReLU, \n",
    "    LogSoftmax\n",
    ")\n",
    "from torch import flatten"
   ]
  },
  {
   "cell_type": "code",
   "execution_count": 3,
   "metadata": {},
   "outputs": [],
   "source": [
    "class LeNet(Module):\n",
    "    def __init__(self, num_channels, classes):\n",
    "        super().__init__()\n",
    "\n",
    "        # First set of CONV => RELU => POOL layers\n",
    "        self.conv1 = Conv2d(\n",
    "            in_channels=num_channels,   # Channels in input image\n",
    "            out_channels=20,            # Number of filters\n",
    "            kernel_size=(5,5)           # Size of each filter\n",
    "        )\n",
    "        self.relu1 = ReLU()\n",
    "        self.maxpool1 = MaxPool2d(kernel_size=(2,2), stride=(2,2))\n",
    "\n",
    "        # Second set of CONV => RELU => POOL lyaers\n",
    "        self.conv2 = Conv2d(\n",
    "            in_channels=20,             # Output channels from first conv\n",
    "            out_channels=50,            # Number of filters\n",
    "            kernel_size=(5,5)           # Size of each filter\n",
    "        )\n",
    "        self.relu2 = ReLU()\n",
    "        self.maxpool2 = MaxPool2d(kernel_size=(2,2), stride=(2,2))\n",
    "\n",
    "        # FC => RELU layers\n",
    "        self.fc1 = Linear(\n",
    "            in_features=800,            # num of input = flattened conv output\n",
    "            out_features=500            # num of hidden neurons\n",
    "        )\n",
    "        self.relu3 = ReLU()\n",
    "\n",
    "        # Softmax classifier\n",
    "        self.fc2 = Linear(\n",
    "            in_features=500,            # num of hidden neurons\n",
    "            out_features=classes        # num of output neurons\n",
    "        )\n",
    "        self.log_softmax = LogSoftmax(dim=1)\n",
    "\n",
    "\n",
    "        def forward(self, x):\n",
    "            # First set of conv layers\n",
    "            x = self.conv1(x)\n",
    "            x = self.relu1(x)\n",
    "            x = self.maxpool1(x)\n",
    "\n",
    "            # Second set of conv layers\n",
    "            x = self.conv2(x)\n",
    "            x = self.relu2(x)\n",
    "            x = self.maxpool2(x)\n",
    "\n",
    "            # Flatten output and pass it to dense layers\n",
    "            x = flatten(x, 1)\n",
    "            x = self.fc1(x)\n",
    "            x = self.relu3(x)\n",
    "\n",
    "            # Softmax classifier\n",
    "            x = self.fc2(x)\n",
    "            output = self.log_softmax(x)\n",
    "\n",
    "            return output"
   ]
  },
  {
   "cell_type": "markdown",
   "metadata": {},
   "source": [
    "## Train"
   ]
  },
  {
   "cell_type": "code",
   "execution_count": 4,
   "metadata": {},
   "outputs": [],
   "source": [
    "import matplotlib\n",
    "matplotlib.use(\"Agg\")\n",
    "\n",
    "from sklearn.metrics import classification_report\n",
    "from torch.utils.data import (random_split, DataLoader)\n",
    "from torchvision.transforms import ToTensor\n",
    "from torchvision.datasets import KMNIST\n",
    "from torch.optim import Adam\n",
    "from torch import nn\n",
    "import matplotlib.pyplot as plt\n",
    "import numpy as np\n",
    "import torch\n",
    "import time"
   ]
  },
  {
   "cell_type": "code",
   "execution_count": 5,
   "metadata": {},
   "outputs": [],
   "source": [
    "# Training hyperparameters\n",
    "init_lr = 1e-3\n",
    "batch_size = 64\n",
    "epochs = 10\n",
    "\n",
    "# train and val split\n",
    "train_split = 0.75\n",
    "val_split = 1 - train_split\n",
    "\n",
    "# Get device\n",
    "device = torch.device(\"cuda\" if torch.cuda.is_available() else \"cpu\")"
   ]
  },
  {
   "cell_type": "markdown",
   "metadata": {},
   "source": [
    "### Prepare Dataset"
   ]
  },
  {
   "cell_type": "code",
   "execution_count": null,
   "metadata": {},
   "outputs": [],
   "source": [
    "train_data = KMNIST(root=\"data\", train=True, download=True, transform=ToTensor())\n",
    "test_data = KMNIST(root=\"data\", train=False, download=True, transform=ToTensor())\n",
    "\n",
    "num_train_samples = int(len(train_data) * train_split)\n",
    "num_val_samples = int(len(train_data) * val_split)\n",
    "(train_data, val_data) = random_split(\n",
    "    train_data,\n",
    "\t[num_train_samples, num_val_samples],\n",
    "\tgenerator=torch.Generator().manual_seed(42)\n",
    ")\n",
    "\n",
    "train_dataloader = DataLoader(train_data, shuffle=True, batch_size=batch_size)\n",
    "val_dataloader = DataLoader(val_data, batch_size=batch_size)\n",
    "test_dataloader = DataLoader(test_data, batch_size=batch_size)\n",
    "\n",
    "train_steps = len(train_dataloader.dataset) // batch_size\n",
    "val_steps = len(val_dataloader.dataset) // batch_size\n"
   ]
  }
 ],
 "metadata": {
  "kernelspec": {
   "display_name": "Python 3.10.6 64-bit",
   "language": "python",
   "name": "python3"
  },
  "language_info": {
   "codemirror_mode": {
    "name": "ipython",
    "version": 3
   },
   "file_extension": ".py",
   "mimetype": "text/x-python",
   "name": "python",
   "nbconvert_exporter": "python",
   "pygments_lexer": "ipython3",
   "version": "3.10.6"
  },
  "orig_nbformat": 4,
  "vscode": {
   "interpreter": {
    "hash": "916dbcbb3f70747c44a77c7bcd40155683ae19c65e1c03b4aa3499c5328201f1"
   }
  }
 },
 "nbformat": 4,
 "nbformat_minor": 2
}
