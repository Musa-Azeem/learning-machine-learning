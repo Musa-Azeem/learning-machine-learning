{
 "cells": [
  {
   "attachments": {},
   "cell_type": "markdown",
   "metadata": {},
   "source": [
    "# Core Learning Algorithms"
   ]
  },
  {
   "attachments": {},
   "cell_type": "markdown",
   "metadata": {},
   "source": [
    "## Four Basic Machine Learning Algorithms\n",
    "\n",
    "- Linear Regression\n",
    "- Classification\n",
    "- Clustering\n",
    "- Hidden Markov Models"
   ]
  },
  {
   "attachments": {},
   "cell_type": "markdown",
   "metadata": {},
   "source": [
    "## Classification\n",
    "- Used to seperate datapoints into classes of different labels "
   ]
  },
  {
   "attachments": {},
   "cell_type": "markdown",
   "metadata": {},
   "source": [
    "### Example Dataset\n",
    "- iris dataset\n",
    "- 120 entries, 4 features, 1 label\n",
    "\n",
    "Three species : Setosa, Versicolor, Virginica\n",
    "Has features  : sepal length, sepal width, petal length, petal width"
   ]
  },
  {
   "cell_type": "code",
   "execution_count": null,
   "metadata": {},
   "outputs": [],
   "source": [
    "import tensorflow as tf\n",
    "import pandas as pd"
   ]
  },
  {
   "cell_type": "code",
   "execution_count": null,
   "metadata": {},
   "outputs": [],
   "source": [
    "CSV_COLUMN_NAMES = ['SepalLength', 'SepalWidth', 'PetalLength', 'PetalWidth', 'Species']\n",
    "SPECIES = ['Setosa', 'Versicolor', 'Virginica']\n",
    "\n",
    "train = pd.read_csv(\"https://storage.googleapis.com/download.tensorflow.org/data/iris_training.csv\", names=CSV_COLUMN_NAMES, header=None, skiprows=1)\n",
    "test = pd.read_csv(\"https://storage.googleapis.com/download.tensorflow.org/data/iris_test.csv\", names=CSV_COLUMN_NAMES, header=None, skiprows=1)\n",
    "\n",
    "train_y = train.pop('Species')\n",
    "test_y = test.pop('Species')"
   ]
  },
  {
   "cell_type": "code",
   "execution_count": null,
   "metadata": {},
   "outputs": [],
   "source": [
    "# Feature Column - create numeric columns for each feature (no categorical features)\n",
    "\n",
    "my_feature_columns = []\n",
    "for key in train.keys():\n",
    "    my_feature_columns.append(tf.feature_column.numeric_column(key=key))"
   ]
  },
  {
   "cell_type": "code",
   "execution_count": null,
   "metadata": {},
   "outputs": [],
   "source": [
    "# Input Function to make dataset\n",
    "\n",
    "def input_fn(features, labels, training=True, batch_size=256):\n",
    "    # Convert input to dataset\n",
    "    dataset = tf.data.Dataset.from_tensor_slices((dict(features), labels))\n",
    "\n",
    "    # Shuffle and repeat if in training mode\n",
    "    if training:\n",
    "        dataset = dataset.shuffle(1000).repeat()\n",
    "    \n",
    "    return dataset.batch(batch_size)"
   ]
  },
  {
   "attachments": {},
   "cell_type": "markdown",
   "metadata": {},
   "source": [
    "### Build Model\n",
    "- Variety of estimators/models to choose from for classification\n",
    "- Some Options:\n",
    "    - `DNNClassifier` (Deep Neural Network)\n",
    "    - `LinearClassification` (similar to linear regression, but does classification instead of regression)"
   ]
  },
  {
   "cell_type": "code",
   "execution_count": null,
   "metadata": {},
   "outputs": [],
   "source": [
    "# Build a DNN w9ith 2 hidden layers with 30 and 10 hidden nodes each\n",
    "\n",
    "classifier = tf.estimator.DNNClassifier(\n",
    "    feature_columns=my_feature_columns,\n",
    "    hidden_units=[30,10],       # Hidden Layer sizes\n",
    "    n_classes=3                 # Number of classes to choose from\n",
    ")"
   ]
  },
  {
   "attachments": {},
   "cell_type": "markdown",
   "metadata": {},
   "source": [
    "### Training\n"
   ]
  },
  {
   "cell_type": "code",
   "execution_count": null,
   "metadata": {},
   "outputs": [],
   "source": [
    "# Train\n",
    "classifier.train(\n",
    "    input_fn = lambda: input_fn(train, train_y, training=True), # give input function as lambda\n",
    "    steps=5000  # number of entries to repeat\n",
    ")\n"
   ]
  },
  {
   "cell_type": "code",
   "execution_count": null,
   "metadata": {},
   "outputs": [],
   "source": [
    "\n",
    "# Evaluate\n",
    "result = classifier.evaluate(\n",
    "    input_fn = lambda: input_fn(test, test_y, training=False)\n",
    ")\n",
    "\n",
    "print(f\"\\nTest set accuracy: {result['accuracy']:.3f}\")"
   ]
  },
  {
   "attachments": {},
   "cell_type": "markdown",
   "metadata": {},
   "source": [
    "### Prediction Script\n",
    "- Predict species of flowers with given features"
   ]
  },
  {
   "cell_type": "code",
   "execution_count": null,
   "metadata": {},
   "outputs": [],
   "source": [
    "def predict_input_fn(features, batch_size=256):\n",
    "    # Convert the inputs to a Dataset without labels.\n",
    "    return tf.data.Dataset.from_tensor_slices(dict(features)).batch(batch_size)\n",
    "\n",
    "features = ['SepalLength', 'SepalWidth', 'PetalLength', 'PetalWidth']\n",
    "\n",
    "# This gets user input\n",
    "# predict = {}\n",
    "# \n",
    "# print(\"Please type numeric values as prompted.\")\n",
    "# for feature in features:\n",
    "#   valid = True\n",
    "#   while valid: \n",
    "#     val = input(feature + \": \")\n",
    "#     if not val.isdigit(): valid = False\n",
    "\n",
    "#   predict[feature] = [float(val)]\n",
    "\n",
    "# Hard code features\n",
    "predict = {'SepalLength': [2.4], 'SepalWidth': [2.6], 'PetalLength': [6.5], 'PetalWidth': [6.3]}\n",
    "\n",
    "\n",
    "predictions = classifier.predict(input_fn=lambda: predict_input_fn(predict))\n",
    "for pred_dict in predictions:\n",
    "    class_id = pred_dict['class_ids'][0]\n",
    "    probability = pred_dict['probabilities'][class_id]\n",
    "\n",
    "    print('Prediction is \"{}\" ({:.1f}%)'.format(\n",
    "        SPECIES[class_id], 100 * probability))"
   ]
  }
 ],
 "metadata": {
  "kernelspec": {
   "display_name": "Python 3",
   "language": "python",
   "name": "python3"
  },
  "language_info": {
   "codemirror_mode": {
    "name": "ipython",
    "version": 3
   },
   "file_extension": ".py",
   "mimetype": "text/x-python",
   "name": "python",
   "nbconvert_exporter": "python",
   "pygments_lexer": "ipython3",
   "version": "3.10.6"
  },
  "orig_nbformat": 4,
  "vscode": {
   "interpreter": {
    "hash": "916dbcbb3f70747c44a77c7bcd40155683ae19c65e1c03b4aa3499c5328201f1"
   }
  }
 },
 "nbformat": 4,
 "nbformat_minor": 2
}
